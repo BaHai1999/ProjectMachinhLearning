{
 "cells": [
  {
   "cell_type": "markdown",
   "metadata": {},
   "source": [
    "# Cài đặt các thư viện cần thiết"
   ]
  },
  {
   "cell_type": "code",
   "execution_count": 3,
   "metadata": {
    "scrolled": true
   },
   "outputs": [
    {
     "name": "stdout",
     "output_type": "stream",
     "text": [
      "Requirement already up-to-date: gensim in /home/hai/anaconda3/lib/python3.8/site-packages (4.0.1)\n",
      "Requirement already satisfied, skipping upgrade: scipy>=0.18.1 in /home/hai/anaconda3/lib/python3.8/site-packages (from gensim) (1.5.2)\n",
      "Requirement already satisfied, skipping upgrade: smart-open>=1.8.1 in /home/hai/anaconda3/lib/python3.8/site-packages (from gensim) (5.0.0)\n",
      "Requirement already satisfied, skipping upgrade: numpy>=1.11.3 in /home/hai/anaconda3/lib/python3.8/site-packages (from gensim) (1.19.2)\n",
      "Requirement already satisfied: pandas in /home/hai/anaconda3/lib/python3.8/site-packages (1.1.3)\n",
      "Requirement already satisfied: python-dateutil>=2.7.3 in /home/hai/anaconda3/lib/python3.8/site-packages (from pandas) (2.8.1)\n",
      "Requirement already satisfied: numpy>=1.15.4 in /home/hai/anaconda3/lib/python3.8/site-packages (from pandas) (1.19.2)\n",
      "Requirement already satisfied: pytz>=2017.2 in /home/hai/anaconda3/lib/python3.8/site-packages (from pandas) (2020.1)\n",
      "Requirement already satisfied: six>=1.5 in /home/hai/anaconda3/lib/python3.8/site-packages (from python-dateutil>=2.7.3->pandas) (1.15.0)\n",
      "Requirement already satisfied: numpy in /home/hai/anaconda3/lib/python3.8/site-packages (1.19.2)\n",
      "Requirement already satisfied: matplotlib in /home/hai/anaconda3/lib/python3.8/site-packages (3.3.2)\n",
      "Requirement already satisfied: certifi>=2020.06.20 in /home/hai/anaconda3/lib/python3.8/site-packages (from matplotlib) (2020.6.20)\n",
      "Requirement already satisfied: pillow>=6.2.0 in /home/hai/anaconda3/lib/python3.8/site-packages (from matplotlib) (8.0.1)\n",
      "Requirement already satisfied: kiwisolver>=1.0.1 in /home/hai/anaconda3/lib/python3.8/site-packages (from matplotlib) (1.3.0)\n",
      "Requirement already satisfied: python-dateutil>=2.1 in /home/hai/anaconda3/lib/python3.8/site-packages (from matplotlib) (2.8.1)\n",
      "Requirement already satisfied: pyparsing!=2.0.4,!=2.1.2,!=2.1.6,>=2.0.3 in /home/hai/anaconda3/lib/python3.8/site-packages (from matplotlib) (2.4.7)\n",
      "Requirement already satisfied: cycler>=0.10 in /home/hai/anaconda3/lib/python3.8/site-packages (from matplotlib) (0.10.0)\n",
      "Requirement already satisfied: numpy>=1.15 in /home/hai/anaconda3/lib/python3.8/site-packages (from matplotlib) (1.19.2)\n",
      "Requirement already satisfied: six>=1.5 in /home/hai/anaconda3/lib/python3.8/site-packages (from python-dateutil>=2.1->matplotlib) (1.15.0)\n",
      "Requirement already satisfied: gensim in /home/hai/anaconda3/lib/python3.8/site-packages (4.0.1)\n",
      "Requirement already satisfied: numpy>=1.11.3 in /home/hai/anaconda3/lib/python3.8/site-packages (from gensim) (1.19.2)\n",
      "Requirement already satisfied: scipy>=0.18.1 in /home/hai/anaconda3/lib/python3.8/site-packages (from gensim) (1.5.2)\n",
      "Requirement already satisfied: smart-open>=1.8.1 in /home/hai/anaconda3/lib/python3.8/site-packages (from gensim) (5.0.0)\n"
     ]
    }
   ],
   "source": [
    "!pip install --upgrade gensim\n",
    "!pip install pandas\n",
    "!pip install numpy\n",
    "!pip install matplotlib\n",
    "!pip install gensim"
   ]
  },
  {
   "cell_type": "markdown",
   "metadata": {
    "id": "lDgYajglZ2n5"
   },
   "source": [
    "# Load data, visualize data"
   ]
  },
  {
   "cell_type": "code",
   "execution_count": 4,
   "metadata": {
    "executionInfo": {
     "elapsed": 886,
     "status": "ok",
     "timestamp": 1618843052702,
     "user": {
      "displayName": "Hải Đinh Bá",
      "photoUrl": "",
      "userId": "00395178218860595390"
     },
     "user_tz": -420
    },
    "id": "IWIgSqza_m1y"
   },
   "outputs": [],
   "source": [
    "import pandas as pd\n",
    "import numpy as np\n",
    "import matplotlib.pyplot as plt\n",
    "from collections import Counter"
   ]
  },
  {
   "cell_type": "code",
   "execution_count": 5,
   "metadata": {
    "colab": {
     "base_uri": "https://localhost:8080/",
     "height": 195
    },
    "executionInfo": {
     "elapsed": 1727,
     "status": "ok",
     "timestamp": 1618843053551,
     "user": {
      "displayName": "Hải Đinh Bá",
      "photoUrl": "",
      "userId": "00395178218860595390"
     },
     "user_tz": -420
    },
    "id": "JGlcArjiAZ6Z",
    "outputId": "15b8935c-2a8e-49ea-8ef2-8bc8ec1fcbf5"
   },
   "outputs": [
    {
     "data": {
      "text/html": [
       "<div>\n",
       "<style scoped>\n",
       "    .dataframe tbody tr th:only-of-type {\n",
       "        vertical-align: middle;\n",
       "    }\n",
       "\n",
       "    .dataframe tbody tr th {\n",
       "        vertical-align: top;\n",
       "    }\n",
       "\n",
       "    .dataframe thead th {\n",
       "        text-align: right;\n",
       "    }\n",
       "</style>\n",
       "<table border=\"1\" class=\"dataframe\">\n",
       "  <thead>\n",
       "    <tr style=\"text-align: right;\">\n",
       "      <th></th>\n",
       "      <th>v1</th>\n",
       "      <th>v2</th>\n",
       "      <th>Unnamed: 2</th>\n",
       "      <th>Unnamed: 3</th>\n",
       "      <th>Unnamed: 4</th>\n",
       "    </tr>\n",
       "  </thead>\n",
       "  <tbody>\n",
       "    <tr>\n",
       "      <th>0</th>\n",
       "      <td>ham</td>\n",
       "      <td>Go until jurong point, crazy.. Available only ...</td>\n",
       "      <td>NaN</td>\n",
       "      <td>NaN</td>\n",
       "      <td>NaN</td>\n",
       "    </tr>\n",
       "    <tr>\n",
       "      <th>1</th>\n",
       "      <td>ham</td>\n",
       "      <td>Ok lar... Joking wif u oni...</td>\n",
       "      <td>NaN</td>\n",
       "      <td>NaN</td>\n",
       "      <td>NaN</td>\n",
       "    </tr>\n",
       "    <tr>\n",
       "      <th>2</th>\n",
       "      <td>spam</td>\n",
       "      <td>Free entry in 2 a wkly comp to win FA Cup fina...</td>\n",
       "      <td>NaN</td>\n",
       "      <td>NaN</td>\n",
       "      <td>NaN</td>\n",
       "    </tr>\n",
       "    <tr>\n",
       "      <th>3</th>\n",
       "      <td>ham</td>\n",
       "      <td>U dun say so early hor... U c already then say...</td>\n",
       "      <td>NaN</td>\n",
       "      <td>NaN</td>\n",
       "      <td>NaN</td>\n",
       "    </tr>\n",
       "    <tr>\n",
       "      <th>4</th>\n",
       "      <td>ham</td>\n",
       "      <td>Nah I don't think he goes to usf, he lives aro...</td>\n",
       "      <td>NaN</td>\n",
       "      <td>NaN</td>\n",
       "      <td>NaN</td>\n",
       "    </tr>\n",
       "  </tbody>\n",
       "</table>\n",
       "</div>"
      ],
      "text/plain": [
       "     v1                                                 v2 Unnamed: 2  \\\n",
       "0   ham  Go until jurong point, crazy.. Available only ...        NaN   \n",
       "1   ham                      Ok lar... Joking wif u oni...        NaN   \n",
       "2  spam  Free entry in 2 a wkly comp to win FA Cup fina...        NaN   \n",
       "3   ham  U dun say so early hor... U c already then say...        NaN   \n",
       "4   ham  Nah I don't think he goes to usf, he lives aro...        NaN   \n",
       "\n",
       "  Unnamed: 3 Unnamed: 4  \n",
       "0        NaN        NaN  \n",
       "1        NaN        NaN  \n",
       "2        NaN        NaN  \n",
       "3        NaN        NaN  \n",
       "4        NaN        NaN  "
      ]
     },
     "execution_count": 5,
     "metadata": {},
     "output_type": "execute_result"
    }
   ],
   "source": [
    "# Đọc dữ liệu từ file csv link tải: https://www.kaggle.com/uciml/sms-spam-collection-dataset\n",
    "df = pd.read_csv(\"spam.csv\", header=0, encoding='latin-1')\n",
    "df.head()"
   ]
  },
  {
   "cell_type": "markdown",
   "metadata": {},
   "source": [
    "# Số lượng thư ham và spam"
   ]
  },
  {
   "cell_type": "code",
   "execution_count": 6,
   "metadata": {
    "colab": {
     "base_uri": "https://localhost:8080/"
    },
    "executionInfo": {
     "elapsed": 1719,
     "status": "ok",
     "timestamp": 1618843053551,
     "user": {
      "displayName": "Hải Đinh Bá",
      "photoUrl": "",
      "userId": "00395178218860595390"
     },
     "user_tz": -420
    },
    "id": "H5WLMb38AmjX",
    "outputId": "2c004644-3832-4953-bd75-556c10727f68"
   },
   "outputs": [
    {
     "data": {
      "text/plain": [
       "Counter({'ham': 4825, 'spam': 747})"
      ]
     },
     "execution_count": 6,
     "metadata": {},
     "output_type": "execute_result"
    }
   ],
   "source": [
    "data = df['v2'].values\n",
    "label = df['v1'].values\n",
    "label_split = Counter(label)\n",
    "label_split"
   ]
  },
  {
   "cell_type": "code",
   "execution_count": 7,
   "metadata": {
    "colab": {
     "base_uri": "https://localhost:8080/",
     "height": 368
    },
    "executionInfo": {
     "elapsed": 1713,
     "status": "ok",
     "timestamp": 1618843053552,
     "user": {
      "displayName": "Hải Đinh Bá",
      "photoUrl": "",
      "userId": "00395178218860595390"
     },
     "user_tz": -420
    },
    "id": "RyRnQ0AvCcqZ",
    "outputId": "4ae6d1a9-73b2-4c45-b3b3-e58d7f3d9366"
   },
   "outputs": [
    {
     "data": {
      "image/png": "[encoded data removed]",
      "text/plain": [
       "<Figure size 432x288 with 1 Axes>"
      ]
     },
     "metadata": {},
     "output_type": "display_data"
    }
   ],
   "source": [
    "# visualize data\n",
    "listdata = np.array([label_split['ham']/(len(df)), label_split['spam']/len(df)])\n",
    "name_labels = ['ham', 'spam']\n",
    "\n",
    "fig, ax = plt.subplots()\n",
    "wedges, texts, autotexts = ax.pie(listdata, labels=name_labels , \n",
    "      #  shadow=True, \n",
    "       explode = (0.1, 0), \n",
    "       labeldistance=None, \n",
    "       radius=1.7, startangle=40, \n",
    "       autopct='%1.1f%%',\n",
    "       textprops={'size': '20', \"color\": \"w\"})\n",
    "\n",
    "ax.legend(wedges, name_labels,\n",
    "          title = 'Ingredients',\n",
    "          loc='best',\n",
    "          bbox_to_anchor=(1.5, 0.7, 0, 0.5),\n",
    "          fontsize='15',\n",
    "          title_fontsize='17')\n",
    "ax.set_title('Biểu đồ tỷ lệ sms', pad=60, fontdict={'size': '20', 'color': 'black'})\n",
    "plt.show()"
   ]
  },
  {
   "cell_type": "markdown",
   "metadata": {
    "id": "hZqGgZoxY9go"
   },
   "source": [
    "# Tiền xử lý dữ liệu"
   ]
  },
  {
   "cell_type": "code",
   "execution_count": 11,
   "metadata": {
    "executionInfo": {
     "elapsed": 1706,
     "status": "ok",
     "timestamp": 1618843053553,
     "user": {
      "displayName": "Hải Đinh Bá",
      "photoUrl": "",
      "userId": "00395178218860595390"
     },
     "user_tz": -420
    },
    "id": "rorh-Pt0JXSu"
   },
   "outputs": [],
   "source": [
    "import re\n",
    "from gensim.parsing.preprocessing import strip_numeric, strip_non_alphanum, split_alphanum, strip_short\n",
    "def Processing(word):\n",
    "  # xóa các đường dẫn\n",
    "  word = re.sub(r\"http\\S+\", \"\", word)\n",
    "  # xóa các dấu câu, các ký tự lạ\n",
    "  word = strip_non_alphanum(word).lower().strip()\n",
    "  # tách các từ vô nghĩa (b1 => b 1)\n",
    "  word = split_alphanum(word)\n",
    "  # xóa các ký tự đúng 1 mình\n",
    "  word = strip_short(word)\n",
    "  # xóa các số trong word\n",
    "  word = strip_numeric(word)\n",
    "  return word\n",
    "def bag_of_word(doc):\n",
    "  bag = []\n",
    "  for word in doc:\n",
    "    bag += Processing(word).split(' ')\n",
    "  bag = list(set(bag))\n",
    "  if ' ' in bag:\n",
    "    bag.remove(' ')\n",
    "  if '' in bag:\n",
    "    bag.remove('')\n",
    "  \n",
    "  return bag"
   ]
  },
  {
   "cell_type": "markdown",
   "metadata": {
    "id": "M14LZQDTZAUw"
   },
   "source": [
    "# Xây dựng model"
   ]
  },
  {
   "cell_type": "markdown",
   "metadata": {},
   "source": [
    "## Tạo hàm train_test_split, và hàm vector hóa các tin nhắn"
   ]
  },
  {
   "cell_type": "code",
   "execution_count": 12,
   "metadata": {
    "executionInfo": {
     "elapsed": 2038,
     "status": "ok",
     "timestamp": 1618843053889,
     "user": {
      "displayName": "Hải Đinh Bá",
      "photoUrl": "",
      "userId": "00395178218860595390"
     },
     "user_tz": -420
    },
    "id": "M3oYXrUVYCKb"
   },
   "outputs": [],
   "source": [
    "# chi train-test ngẫu nhiên theo tỷ lệ train_size, defaul: train_size = 0.8\n",
    "def train_test_split(data, label, train_size = 0.8):\n",
    "  X_train, X_test = [], []\n",
    "  y_train, y_test = [], []\n",
    "\n",
    "  len_train_ham = int(len(label[label == 'ham'])*train_size)\n",
    "  len_train_spam = int(len(label[label == 'spam'])*train_size)\n",
    "  index = np.arange(len(data))\n",
    "  np.random.shuffle(index)\n",
    "  count_ham, count_spam = 0, 0\n",
    "  for i in index:\n",
    "    if (label[index[i]] == 'ham'):\n",
    "      if (count_ham < len_train_ham):\n",
    "        X_train.append(data[index[i]])\n",
    "        y_train.append('ham')\n",
    "        count_ham += 1\n",
    "      else:\n",
    "        X_test.append(data[index[i]])\n",
    "        y_test.append('ham')\n",
    "    else:\n",
    "      if (count_spam < len_train_spam):\n",
    "        X_train.append(data[index[i]])\n",
    "        y_train.append('spam')\n",
    "        count_spam += 1\n",
    "      else:\n",
    "        X_test.append(data[index[i]])\n",
    "        y_test.append('spam')\n",
    "  \n",
    "  X_train, X_test = np.array(X_train), np.array(X_test)\n",
    "  y_train, y_test = np.array(y_train), np.array(y_test)\n",
    "\n",
    "  return (X_train, X_test, y_train, y_test)\n",
    "\n",
    "def vector_words(data, bag_word):\n",
    "  data_ = []\n",
    "  for node in data:\n",
    "    x = np.zeros((len(bag_word), ))\n",
    "    node_pross = Processing(node)\n",
    "    for i, word in enumerate(bag_word):\n",
    "      if word in node_pross:\n",
    "        x[i] = 1\n",
    "    data_.append(x.copy())\n",
    "  data_ = np.array(data_)\n",
    "  return data_\n"
   ]
  },
  {
   "cell_type": "markdown",
   "metadata": {},
   "source": [
    "## Chạy thực nghiệm "
   ]
  },
  {
   "cell_type": "code",
   "execution_count": 13,
   "metadata": {
    "executionInfo": {
     "elapsed": 2034,
     "status": "ok",
     "timestamp": 1618843053890,
     "user": {
      "displayName": "Hải Đinh Bá",
      "photoUrl": "",
      "userId": "00395178218860595390"
     },
     "user_tz": -420
    },
    "id": "iud5raWXYE4B"
   },
   "outputs": [
    {
     "name": "stdout",
     "output_type": "stream",
     "text": [
      "              precision    recall  f1-score   support\n",
      "\n",
      "           0       0.99      0.98      0.99       965\n",
      "           1       0.90      0.92      0.91       150\n",
      "\n",
      "    accuracy                           0.98      1115\n",
      "   macro avg       0.94      0.95      0.95      1115\n",
      "weighted avg       0.98      0.98      0.98      1115\n",
      "\n"
     ]
    }
   ],
   "source": [
    "from sklearn.preprocessing import LabelEncoder\n",
    "from sklearn.naive_bayes import MultinomialNB\n",
    "from sklearn import metrics\n",
    "\n",
    "test_size = 0.2\n",
    "alpha = 0.1\n",
    "\n",
    "# Vector hoa du lieu\n",
    "X_word_train, X_word_test, y_word_train, y_word_test = train_test_split(data, label, train_size=1-test_size)\n",
    "bag_word = bag_of_word(X_word_train)\n",
    "\n",
    "X_train, X_test = vector_words(X_word_train, bag_word), vector_words(X_word_test, bag_word)\n",
    "le = LabelEncoder()\n",
    "le.fit(['ham', 'spam'])\n",
    "y_train = le.transform(y_word_train)\n",
    "y_test = le.transform(y_word_test)\n",
    "\n",
    "# Run model\n",
    "clf = MultinomialNB(alpha=alpha)\n",
    "clf.fit(X_train, y_train)\n",
    "\n",
    "\n",
    "# clf.score(X_test, y_test)\n",
    "y_predict = clf.predict(X_test)\n",
    "# Đánh giá model với alpha = 0.1, thay đổi giá trị alpha để có giá trị khác nhau\n",
    "print(metrics.classification_report(y_test, y_predict))"
   ]
  },
  {
   "cell_type": "code",
   "execution_count": null,
   "metadata": {},
   "outputs": [],
   "source": []
  }
 ],
 "metadata": {
  "colab": {
   "authorship_tag": "ABX9TyMEl6D9SveME5PB45zdDydM",
   "mount_file_id": "13vhmPwV8nr2Ptau0HzjORJjNRF2K8DK6",
   "name": "naivebayes.ipynb",
   "provenance": []
  },
  "kernelspec": {
   "display_name": "Python 3",
   "language": "python",
   "name": "python3"
  },
  "language_info": {
   "codemirror_mode": {
    "name": "ipython",
    "version": 3
   },
   "file_extension": ".py",
   "mimetype": "text/x-python",
   "name": "python",
   "nbconvert_exporter": "python",
   "pygments_lexer": "ipython3",
   "version": "3.8.5"
  }
 },
 "nbformat": 4,
 "nbformat_minor": 1
}
